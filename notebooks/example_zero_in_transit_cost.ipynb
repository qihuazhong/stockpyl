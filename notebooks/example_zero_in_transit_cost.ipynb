{
 "cells": [
  {
   "cell_type": "markdown",
   "id": "fd8ae1ac",
   "metadata": {},
   "source": [
    "## Install the forked version of sotckpyl with some fixes"
   ]
  },
  {
   "cell_type": "code",
   "execution_count": 18,
   "id": "e4cd900c",
   "metadata": {},
   "outputs": [],
   "source": [
    "#pip install --force-reinstall -e git+https://github.com/qihuazhong/stockpyl.git#egg=stockpyl"
   ]
  },
  {
   "cell_type": "code",
   "execution_count": 19,
   "id": "10213e9b",
   "metadata": {},
   "outputs": [],
   "source": [
    "import numpy as np\n",
    "from stockpyl.supply_chain_network import serial_system\n",
    "from stockpyl.ssm_serial import optimize_base_stock_levels\n",
    "from stockpyl.sim import simulation"
   ]
  },
  {
   "cell_type": "markdown",
   "id": "d134a65a",
   "metadata": {},
   "source": [
    "## Get the customer distribution probabilities\n",
    "$N(10, 2^2)$ rounded and truncated"
   ]
  },
  {
   "cell_type": "code",
   "execution_count": 20,
   "id": "3213dd98",
   "metadata": {},
   "outputs": [],
   "source": [
    "arr = np.round(np.maximum(10 + 2 * np.random.randn(1000000), 0)).astype(int)\n",
    "unique, counts = np.unique(arr, return_counts=True)"
   ]
  },
  {
   "cell_type": "code",
   "execution_count": 21,
   "id": "fc2f6190",
   "metadata": {},
   "outputs": [],
   "source": [
    "network = serial_system(\n",
    "    num_nodes=4,\n",
    "    node_order_in_system=[4, 3, 2, 1],\n",
    "    echelon_holding_cost=[0.25, 0.25, 0.25, 0.25],\n",
    "    local_holding_cost=[0.25, 0.5, 0.75, 1],\n",
    "    in_transit_holding_cost=[0, 0, 0, 0], # this line only takes effect in the simulation\n",
    "    shipment_lead_time=[3, 4, 4, 4],\n",
    "    stockout_cost=10,\n",
    "    policy_type=[\"BS\",\"BS\",\"BS\",\"BS\"],\n",
    "    base_stock_level=[30, 41, 43, 48],\n",
    "    demand_type=\"CD\",\n",
    "    demand_list=list(unique),\n",
    "    probabilities=list(counts/1000000))"
   ]
  },
  {
   "cell_type": "markdown",
   "id": "abcba0da",
   "metadata": {},
   "source": [
    "## Ge the total optimal cost (C_star)\n",
    "### with in_transit_holding cost "
   ]
  },
  {
   "cell_type": "code",
   "execution_count": 22,
   "id": "fbff0814",
   "metadata": {},
   "outputs": [
    {
     "name": "stdout",
     "output_type": "stream",
     "text": [
      "Optimal echelon base stock target level={4: 162, 3: 132, 2: 91, 1: 48}\n",
      "Total cost = 72.61912125243879\n"
     ]
    }
   ],
   "source": [
    "S_star, C_star = optimize_base_stock_levels(network=network)\n",
    "print(f\"Optimal echelon base stock target level={S_star}\")\n",
    "print(f\"Total cost = {C_star}\")"
   ]
  },
  {
   "cell_type": "markdown",
   "id": "d2490f6e",
   "metadata": {},
   "source": [
    "### without in_transit_holding cost"
   ]
  },
  {
   "cell_type": "code",
   "execution_count": 23,
   "id": "011ca4a8",
   "metadata": {},
   "outputs": [
    {
     "name": "stdout",
     "output_type": "stream",
     "text": [
      "Optimal echelon base stock target level={4: 162, 3: 132, 2: 91, 1: 48}\n",
      "Total cost = 15.107431502438772\n"
     ]
    }
   ],
   "source": [
    "S_star, C_star = optimize_base_stock_levels(network=network, in_transit_holding_cost=False)\n",
    "print(f\"Optimal echelon base stock target level={S_star}\")\n",
    "print(f\"Total cost = {C_star}\")"
   ]
  },
  {
   "cell_type": "markdown",
   "id": "f42f0702",
   "metadata": {},
   "source": [
    "## Stockpyl simulation"
   ]
  },
  {
   "cell_type": "code",
   "execution_count": 16,
   "id": "d455eaf4",
   "metadata": {
    "scrolled": true
   },
   "outputs": [
    {
     "name": "stderr",
     "output_type": "stream",
     "text": [
      "100%|██████████████████████████████████████████████████████████████████████| 1000000/1000000 [07:52<00:00, 2115.90it/s]\n"
     ]
    },
    {
     "data": {
      "text/plain": [
       "12611126.0"
      ]
     },
     "execution_count": 16,
     "metadata": {},
     "output_type": "execute_result"
    }
   ],
   "source": [
    "simulation(network=network, num_periods=1000000)"
   ]
  },
  {
   "cell_type": "code",
   "execution_count": null,
   "id": "ec3f1165",
   "metadata": {},
   "outputs": [],
   "source": []
  },
  {
   "cell_type": "code",
   "execution_count": null,
   "id": "488333df",
   "metadata": {},
   "outputs": [],
   "source": []
  },
  {
   "cell_type": "code",
   "execution_count": null,
   "id": "8a3969cf",
   "metadata": {},
   "outputs": [],
   "source": []
  }
 ],
 "metadata": {
  "kernelspec": {
   "display_name": "Python 3 (ipykernel)",
   "language": "python",
   "name": "python3"
  },
  "language_info": {
   "codemirror_mode": {
    "name": "ipython",
    "version": 3
   },
   "file_extension": ".py",
   "mimetype": "text/x-python",
   "name": "python",
   "nbconvert_exporter": "python",
   "pygments_lexer": "ipython3",
   "version": "3.10.9"
  }
 },
 "nbformat": 4,
 "nbformat_minor": 5
}
